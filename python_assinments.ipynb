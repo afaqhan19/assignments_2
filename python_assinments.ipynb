{
 "cells": [
  {
   "cell_type": "code",
   "execution_count": 3,
   "metadata": {},
   "outputs": [
    {
     "name": "stdout",
     "output_type": "stream",
     "text": [
      "Enter the radius of a circle in cm: 12\n",
      "The area of the circle of 12.0 radius is 452.389 cm^2.\n"
     ]
    }
   ],
   "source": [
    "#1_assignment\n",
    "\n",
    "import math\n",
    "x = math.pi\n",
    "radius = float(input(\"Enter the radius of a circle in cm: \"))\n",
    "r = math.pow(radius, 2)\n",
    "area = x*r\n",
    "A = round(area, 3)\n",
    "print(\"The area of the circle of\",radius,\"radius is\",A,\"cm^2.\")\n"
   ]
  },
  {
   "cell_type": "code",
   "execution_count": 4,
   "metadata": {},
   "outputs": [
    {
     "name": "stdout",
     "output_type": "stream",
     "text": [
      "Enter number to check either it is positive or negative or zero: 1\n",
      "1 is positive\n"
     ]
    }
   ],
   "source": [
    "#2_assignment\n",
    "num = int(input(\"Enter number to check either it is positive or negative or zero: \"))\n",
    "if num in range(1, 10000000):\n",
    "    print(num,\"is positive\")\n",
    "elif num in range(-10000000,-1):\n",
    "    print(num,\"is negative\")\n",
    "else:\n",
    "    print(num, \"is zero\")"
   ]
  },
  {
   "cell_type": "code",
   "execution_count": 5,
   "metadata": {},
   "outputs": [
    {
     "name": "stdout",
     "output_type": "stream",
     "text": [
      "Enter numerator: 2\n",
      "Enter denominator: 1\n",
      "2 is completely divisible by 1\n"
     ]
    }
   ],
   "source": [
    "#3_assignment\n",
    "num = int(input(\"Enter numerator: \"))\n",
    "den = int(input(\"Enter denominator: \"))\n",
    "if num/den in range(1000):\n",
    "    print(num,\"is completely divisible by\",den)\n",
    "else:\n",
    "        print(num,\"is not completely divisible by\",den)\n"
   ]
  },
  {
   "cell_type": "code",
   "execution_count": 2,
   "metadata": {},
   "outputs": [
    {
     "name": "stdout",
     "output_type": "stream",
     "text": [
      "Enter first date in format DD/MM/YY: 12/01/2020\n",
      "Enter second date in format DD/MM/YY: 13/01/2020\n",
      "The difference in between two dates is 1 days\n"
     ]
    }
   ],
   "source": [
    "#4_assignment\n",
    "import math\n",
    "import datetime\n",
    "from datetime import date\n",
    "first_date = input(\"Enter first date in format DD/MM/YY: \")\n",
    "date_1 = datetime.datetime.strptime(first_date, '%d/%m/%Y').date()\n",
    "second_date = input(\"Enter second date in format DD/MM/YY: \")\n",
    "date_2 = datetime.datetime.strptime(second_date, '%d/%m/%Y').date()\n",
    "#date_1.day\n",
    "#date_2.year\n",
    "diff_year = date_2.year - date_1.year\n",
    "#print(\"diff in year\", diff_year)\n",
    "diff_month = date_2.month - date_1.month\n",
    "diff_day = date_2.day - date_1.day\n",
    "days_in_year = 365*diff_year\n",
    "days_in_month = 30.4167*diff_month\n",
    "final_diff = days_in_year + days_in_month + diff_day\n",
    "print(\"The difference in between two dates is\", math.ceil(final_diff),\"days\")\n"
   ]
  },
  {
   "cell_type": "code",
   "execution_count": 4,
   "metadata": {},
   "outputs": [
    {
     "name": "stdout",
     "output_type": "stream",
     "text": [
      "Enter the radius of a sphere in cm: 2\n",
      "The volume of a sphere of 2 radius is 33.51 cm^3.\n"
     ]
    }
   ],
   "source": [
    "#5_assignment\n",
    "import math\n",
    "a = math.pi\n",
    "radi = float(input(\"Enter the radius of a sphere in cm: \"))\n",
    "v = math.pow(radi, 3)\n",
    "volume = (4/3)*a*v\n",
    "V = round(volume, 3)\n",
    "print(\"The volume of a sphere of\",radi,\"radius is\",V,\"cm^3.\")\n"
   ]
  },
  {
   "cell_type": "code",
   "execution_count": 27,
   "metadata": {},
   "outputs": [
    {
     "name": "stdout",
     "output_type": "stream",
     "text": [
      "Enter string: 89\n",
      "How many times you would like to copy string? 9\n",
      "          ********************\n",
      "89  89  89  89  89  89  89  89  89  "
     ]
    }
   ],
   "source": [
    "#6_assignment\n",
    "statement = input(\"Enter string: \")\n",
    "repeat = int(input(\"How many times you would like to copy string? \"))\n",
    "#print(\"\\n\")\n",
    "for sapce in range(10):\n",
    "    print(\" \", end=\"\")\n",
    "for star in range(20):\n",
    "    print(\"*\",end=\"\")\n",
    "print(\"\")\n",
    "for b in range(repeat):\n",
    "    print(statement, \" \" , end = \"\")"
   ]
  },
  {
   "cell_type": "code",
   "execution_count": 6,
   "metadata": {},
   "outputs": [
    {
     "name": "stdout",
     "output_type": "stream",
     "text": [
      "Enter integer to check either it is even or odd : 345\n",
      "The given integer is odd\n"
     ]
    }
   ],
   "source": [
    "#7_assignment\n",
    "num = int(input(\"Enter integer to check either it is even or odd : \"))\n",
    "if num in range(0,100001,2):\n",
    "    print(\"The given integer is even\")\n",
    "elif num in range(1,100002,2):\n",
    "    print(\"The given integer is odd\")\n",
    "else:\n",
    "    print(\"Error\")"
   ]
  },
  {
   "cell_type": "code",
   "execution_count": 7,
   "metadata": {},
   "outputs": [
    {
     "name": "stdout",
     "output_type": "stream",
     "text": [
      "Enter alphabet to test either it is vowel or not: e\n",
      "e is a vowel\n"
     ]
    }
   ],
   "source": [
    "#8_assignment\n",
    "alpha = input(\"Enter alphabet to test either it is vowel or not: \")\n",
    "alpha_ = alpha.lower()\n",
    "vowel = ['a','e','i','o','u']\n",
    "if alpha_ in vowel:\n",
    "    print(alpha,\"is a vowel\")\n",
    "else:\n",
    "    print(alpha, \"is not a vowel\")"
   ]
  },
  {
   "cell_type": "code",
   "execution_count": 8,
   "metadata": {},
   "outputs": [
    {
     "name": "stdout",
     "output_type": "stream",
     "text": [
      "Enter base: 3\n",
      "Enter height: 1\n",
      "The area of triangle with base 3.0 and height 1.0 is 1.5\n"
     ]
    }
   ],
   "source": [
    "#9_assignment\n",
    "base = float(input(\"Enter base: \"))\n",
    "height = float(input(\"Enter height: \"))\n",
    "area = (1/2)*base*height\n",
    "print(\"The area of triangle with base\",base,\"and height\",height,\"is\", area)"
   ]
  },
  {
   "cell_type": "code",
   "execution_count": 9,
   "metadata": {},
   "outputs": [
    {
     "name": "stdout",
     "output_type": "stream",
     "text": [
      "Enter principal amount: 2\n",
      "Enter number of years: 2\n",
      "Enter rate of interest in %: 2\n",
      "After 2 years your principal amount 2.0 over an interest rate of 2.0 will be 10.0\n"
     ]
    }
   ],
   "source": [
    "#10_assignment\n",
    "#principal_value \n",
    "p = float(input(\"Enter principal amount: \"))\n",
    "#period\n",
    "t = int(input(\"Enter number of years: \"))\n",
    "#rate\n",
    "r = float(input(\"Enter rate of interest in %: \"))\n",
    "amount = p*(1+(t*r))\n",
    "print(\"After\",t,\"years your principal amount\",p,\"over an interest rate of\",r,\"will be\",amount)"
   ]
  },
  {
   "cell_type": "code",
   "execution_count": 10,
   "metadata": {},
   "outputs": [
    {
     "name": "stdout",
     "output_type": "stream",
     "text": [
      "Enter value of coordinate x1: 1\n",
      "Enter value of coordinate x2: 2\n",
      "Enter value of coordinate y1: 1\n",
      "Enter value of coordinate y2: 2\n",
      "Distance  between points ( 1.0 , 2.0 ) and ( 1.0 , 2.0 ) is 1.414\n"
     ]
    }
   ],
   "source": [
    "#11_assignment\n",
    "import math\n",
    "x1 = float(int(input(\"Enter value of coordinate x1: \")))\n",
    "x2 = float(int(input(\"Enter value of coordinate x2: \")))\n",
    "y1 = float(int(input(\"Enter value of coordinate y1: \")))\n",
    "y2 = float(int(input(\"Enter value of coordinate y2: \")))\n",
    "dis = math.sqrt(pow(x2-x1,2)+pow(y2-y1,2))\n",
    "\n",
    "\n",
    "#round(dis, 3)\n",
    "print(\"Distance  between points (\",x1,\",\",x2,\") and (\",y1,\",\",y2,\") is\",round(dis,3) )"
   ]
  },
  {
   "cell_type": "code",
   "execution_count": 11,
   "metadata": {},
   "outputs": [
    {
     "name": "stdout",
     "output_type": "stream",
     "text": [
      "Enter height in format 6.8 feet: 5.9\n",
      "There are 179.832 cm in 5.9 ft.\n"
     ]
    }
   ],
   "source": [
    "#12_assignment\n",
    "feet = float(input(\"Enter height in format 6.8 feet: \" ))\n",
    "height = feet*30.48\n",
    "print(\"There are\",round(height,3),\"cm in\",feet,\"ft.\")\n"
   ]
  },
  {
   "cell_type": "code",
   "execution_count": 12,
   "metadata": {},
   "outputs": [
    {
     "name": "stdout",
     "output_type": "stream",
     "text": [
      "Enter weight in kgs: 1\n",
      "Enter height in inches: 2\n",
      "387.462\n"
     ]
    }
   ],
   "source": [
    "#13_assignment\n",
    "weight = float(input(\"Enter weight in kgs: \"))\n",
    "weight_in_lbs = 2.20462*weight\n",
    "height = float(input(\"Enter height in inches: \"))\n",
    "\n",
    "bmi = (weight_in_lbs/math.pow(height,2))*703\n",
    "print(round(bmi,3))"
   ]
  },
  {
   "cell_type": "code",
   "execution_count": 14,
   "metadata": {},
   "outputs": [
    {
     "name": "stdout",
     "output_type": "stream",
     "text": [
      "Enter positive integer for summation: 4\n",
      "Summation of first 4 integers is 10\n"
     ]
    }
   ],
   "source": [
    "#14_assignment\n",
    "def summation(n):\n",
    "    if n == 1:\n",
    "        return n\n",
    "    else:\n",
    "        return n+summation(n-1)\n",
    "num = int(input(\"Enter positive integer for summation: \"))\n",
    "if num < 0:\n",
    "    print(\"summation is not for negative integers. \")\n",
    "else:\n",
    "    print(\"Summation of first\",num,\"integers is\",summation(num))"
   ]
  },
  {
   "cell_type": "code",
   "execution_count": 16,
   "metadata": {},
   "outputs": [
    {
     "name": "stdout",
     "output_type": "stream",
     "text": [
      "Enter a number to make digits add: 13\n",
      "4\n"
     ]
    }
   ],
   "source": [
    "#15_assignment\n",
    "num = int(input(\"Enter a number to make digits add: \"))\n",
    "result = 0\n",
    "for x in range(len(str(num))):\n",
    "    digit = num%10\n",
    "    result = result+digit\n",
    "    num = num//10\n",
    "print(result)"
   ]
  },
  {
   "cell_type": "code",
   "execution_count": 17,
   "metadata": {},
   "outputs": [
    {
     "name": "stdout",
     "output_type": "stream",
     "text": [
      "Enter decimal number to convert it in binary number: 12\n",
      "1100"
     ]
    }
   ],
   "source": [
    "#16_assignment\n",
    "def decimaltobinary(dec):\n",
    "    if dec>1:\n",
    "        decimaltobinary(dec//2)\n",
    "    print(dec%2,end=\"\")\n",
    "            \n",
    "            \n",
    "decimal = int(input(\"Enter decimal number to convert it in binary number: \"))\n",
    "decimaltobinary(decimal)"
   ]
  },
  {
   "cell_type": "code",
   "execution_count": 18,
   "metadata": {},
   "outputs": [
    {
     "name": "stdout",
     "output_type": "stream",
     "text": [
      "enter binary: 1101\n"
     ]
    },
    {
     "data": {
      "text/plain": [
       "13"
      ]
     },
     "execution_count": 18,
     "metadata": {},
     "output_type": "execute_result"
    }
   ],
   "source": [
    "#17_assignment\n",
    "def binarytodecimal(numb):\n",
    "    rest = 0\n",
    "    for i in range(len(str(numb))):\n",
    "        rem = numb%10\n",
    "        rest = rest + rem*pow(2,i)\n",
    "        numb = numb//10\n",
    "    return rest\n",
    "binary = int(input(\"enter binary: \"))\n",
    "binarytodecimal(binary)"
   ]
  },
  {
   "cell_type": "code",
   "execution_count": 19,
   "metadata": {},
   "outputs": [
    {
     "name": "stdout",
     "output_type": "stream",
     "text": [
      "Enter string: wer\n",
      "wer has 1 vowels and\n",
      "wer has 2 consonants\n"
     ]
    }
   ],
   "source": [
    "#18_assignment\n",
    "string = input(\"Enter string: \")\n",
    "string_ = string.lower()\n",
    "count, res = 0,0\n",
    "for  i in string_ :\n",
    "    if (i == 'a' or i == 'e' or i ==  'i' or i == 'u' or i == 'o'):\n",
    "        count = count + 1\n",
    "    elif i == \" \":\n",
    "        print(\"\",end=\"\")\n",
    "    else:\n",
    "        res = res +1\n",
    "print(string, \"has\",count,\"vowels and\")\n",
    "print(string,\"has\",res,\"consonants\")"
   ]
  },
  {
   "cell_type": "code",
   "execution_count": null,
   "metadata": {},
   "outputs": [],
   "source": [
    "#19_assignment\n",
    "#palindrome_tester\n",
    "name = input(\"Enter string: \")\n",
    "reverse = ''.join(reversed(name))\n",
    "if reverse == name:\n",
    "    print(name,\"is a palindrome.\")\n",
    "else:\n",
    "    print(name,\"is not a palindrome.\" )\n",
    "    "
   ]
  },
  {
   "cell_type": "code",
   "execution_count": null,
   "metadata": {},
   "outputs": [],
   "source": [
    "#20_assignment\n",
    "# import string\n",
    "#count alphabhets,strings and special characters\n",
    "\n",
    "# print(lst)\n",
    "text = input(\"Enter text: \")\n",
    "text = text.lower()\n",
    "alpha,extras, char, num = 0,0,0,0\n",
    "# all_char = string.ascii_lowercase\n",
    "# lst = list(all_char)\n",
    "for a in text:\n",
    "    if a == 'a' or a == 'e' or a == 'i' or a == 'o' or a == 'u':\n",
    "        alpha = alpha + 1\n",
    "    elif a == \" \" or a == '.' or  a == ' ' or  a == ')' or  a == '(' or  a == ';' or  a == ':' or  a == ',':\n",
    "        extras = extras + 1\n",
    "    elif a == '0' or a == '1' or a == '2' or a == '3' or a == '4' or a == '5' or a == '6' or a == '7' or a == '8' or a == '9' :\n",
    "        num = num + 1\n",
    "    else:\n",
    "        char = alpha\n",
    "        char = char + 1\n",
    "        alpha = char\n",
    "\n",
    "        \n",
    "        \n",
    "        \n",
    "# print(alpha)\n",
    "print(\"alphabets:\",char)\n",
    "print(\"numbers: \",num)\n",
    "print(\"special characters: \",extras)\n"
   ]
  },
  {
   "cell_type": "code",
   "execution_count": null,
   "metadata": {},
   "outputs": [],
   "source": [
    "#21_assignment\n",
    "numb = int(input(\"Enter number of rows: \"))\n",
    "for a in range(0,numb):\n",
    "    for b in range(0,a+1):\n",
    "        print(\"*\",end=\"\")\n",
    "    print(\"\")\n",
    "for c in range(numb-1,0,-1):\n",
    "    for d in range(0,c):\n",
    "        print(\"*\",end=\"\")\n",
    "    print(\"\")"
   ]
  },
  {
   "cell_type": "code",
   "execution_count": null,
   "metadata": {},
   "outputs": [],
   "source": [
    "#22_assignment\n",
    "numb = int(input(\"Enter number of rows: \"))\n",
    "for a in range(0,numb):\n",
    "    for b in range(0,a+1):\n",
    "        print(b+1,end=\"\")\n",
    "    print(\"\")\n",
    "for c in range(numb,0,-1):\n",
    "    for d in range(0+1,c):\n",
    "        print(d,end=\"\")\n",
    "    print(\"\")"
   ]
  },
  {
   "cell_type": "code",
   "execution_count": null,
   "metadata": {},
   "outputs": [],
   "source": [
    "#23_assignment\n",
    "numb = int(input(\"Enter number of rows: \"))\n",
    "for a in range(0+1,numb+1):\n",
    "    for b in range(0,a):\n",
    "        print(a,end=\"\")\n",
    "    print(\"\")\n"
   ]
  }
 ],
 "metadata": {
  "kernelspec": {
   "display_name": "Python 3",
   "language": "python",
   "name": "python3"
  },
  "language_info": {
   "codemirror_mode": {
    "name": "ipython",
    "version": 3
   },
   "file_extension": ".py",
   "mimetype": "text/x-python",
   "name": "python",
   "nbconvert_exporter": "python",
   "pygments_lexer": "ipython3",
   "version": "3.7.0"
  }
 },
 "nbformat": 4,
 "nbformat_minor": 2
}
